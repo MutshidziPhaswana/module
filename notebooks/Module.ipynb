{
 "cells": [
  {
   "cell_type": "code",
   "execution_count": 34,
   "metadata": {},
   "outputs": [],
   "source": [
    "import numpy as np"
   ]
  },
  {
   "cell_type": "code",
   "execution_count": 35,
   "metadata": {},
   "outputs": [],
   "source": [
    "def _get_params(value):\n",
    "    if isinstance(value, np.ndarray):\n",
    "        return [value]\n",
    "    if isinstance(value, dict):\n",
    "        res = []\n",
    "        for k, v in value.items():\n",
    "            res += _get_params(v)\n",
    "        return res\n",
    "    if isinstance(value, Module):\n",
    "        print(value)\n",
    "        return value.parameters()\n",
    "    \n",
    "class Module:\n",
    "    def parameters(self):\n",
    "        return _get_params(self.__dict__)\n",
    "    def __call__(self, *args, **kwargs):\n",
    "        return self.forward(*args, **kwargs)"
   ]
  },
  {
   "cell_type": "code",
   "execution_count": 36,
   "metadata": {},
   "outputs": [],
   "source": [
    "class Addition(Module):\n",
    "    def __init__(self, init_a = np.asarray([1, 1, 1]), init_b = np.asarray([2, 2, 2])):\n",
    "        self.a = init_a\n",
    "        self.b = init_b\n",
    "    \n",
    "    def forward(self, x):\n",
    "        return self.a + x + self.b"
   ]
  },
  {
   "cell_type": "code",
   "execution_count": 37,
   "metadata": {},
   "outputs": [
    {
     "data": {
      "text/plain": [
       "array([6, 6, 6])"
      ]
     },
     "execution_count": 37,
     "metadata": {},
     "output_type": "execute_result"
    }
   ],
   "source": [
    "add = Addition() # init the module\n",
    "add.parameters() # module parameters\n",
    "add(np.asarray([3, 3, 3])) # calls the forward pass"
   ]
  }
 ],
 "metadata": {
  "kernelspec": {
   "display_name": "Python 3",
   "language": "python",
   "name": "python3"
  },
  "language_info": {
   "codemirror_mode": {
    "name": "ipython",
    "version": 3
   },
   "file_extension": ".py",
   "mimetype": "text/x-python",
   "name": "python",
   "nbconvert_exporter": "python",
   "pygments_lexer": "ipython3",
   "version": "3.10.13"
  }
 },
 "nbformat": 4,
 "nbformat_minor": 2
}
